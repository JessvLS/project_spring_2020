{
 "cells": [
  {
   "cell_type": "code",
   "execution_count": null,
   "metadata": {},
   "outputs": [],
   "source": [
    "import setuptools                                                                                                                        \n",
    "\n",
    "with open (\"README.md\", \"r\") as fh: \n",
    "     long_description = fh.read() \n",
    "\n",
    "setuptools.setup( \n",
    "     name=\"universal-realtime-noro\", \n",
    "     version=\"0.0.1\", \n",
    "     author=\"JvLS_DK\", \n",
    "     author_email=\"danielkim478@gmail.com\", \n",
    "     description=\"FAES Python Final Project\", \n",
    "     long_description=long_description, \n",
    "     long_description_content_type=\"text/markdown\", \n",
    "     url=\"https://github.com/JessvLS/project_spring_2020.git\", \n",
    "     packages=setuptools.find_packages(), \n",
    "     classifiers=[ \n",
    "         \"Programming Language :: Python :: 3\", \n",
    "         \"License :: Apache License\", \n",
    "         \"Operating System :: OS Independent\", \n",
    "     ], \n",
    "     python_requires='>=3.6', \n",
    ")  "
   ]
  }
 ],
 "metadata": {
  "kernelspec": {
   "display_name": "Python 3",
   "language": "python",
   "name": "python3"
  },
  "language_info": {
   "codemirror_mode": {
    "name": "ipython",
    "version": 3
   },
   "file_extension": ".py",
   "mimetype": "text/x-python",
   "name": "python",
   "nbconvert_exporter": "python",
   "pygments_lexer": "ipython3",
   "version": "3.7.4"
  }
 },
 "nbformat": 4,
 "nbformat_minor": 4
}
